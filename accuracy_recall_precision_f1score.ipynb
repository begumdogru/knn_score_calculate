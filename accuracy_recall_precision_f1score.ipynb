{
 "cells": [
  {
   "cell_type": "code",
   "execution_count": 1,
   "metadata": {},
   "outputs": [
    {
     "name": "stdout",
     "output_type": "stream",
     "text": [
      "0.3\n",
      "0.42857142857142855\n",
      "0.5\n",
      "0.4615384615384615\n"
     ]
    }
   ],
   "source": [
    "labels = [1, 0, 0, 1, 1, 1, 0, 1, 1, 1]\n",
    "guesses = [0, 1, 1, 1, 1, 0, 1, 0, 1, 0]\n",
    "\n",
    "true_positives = 0\n",
    "true_negatives = 0\n",
    "false_positives = 0\n",
    "false_negatives = 0\n",
    "\n",
    "for i in range(len(guesses)):\n",
    "  #True Positives\n",
    "  if labels[i] == 1 and guesses[i] == 1:\n",
    "    true_positives += 1\n",
    "  #True Negatives\n",
    "  if labels[i] == 0 and guesses[i] == 0:\n",
    "    true_negatives += 1\n",
    "  #False Positives\n",
    "  if labels[i] == 0 and guesses[i] == 1:\n",
    "    false_positives += 1\n",
    "  #False Negatives\n",
    "  if labels[i] == 1 and guesses[i] == 0:\n",
    "    false_negatives += 1\n",
    "    \n",
    "accuracy = (true_positives + true_negatives) / len(guesses)\n",
    "print(accuracy)\n",
    "\n",
    "recall = true_positives / (true_positives + false_negatives)\n",
    "print(recall)\n",
    "\n",
    "precision = true_positives / (true_positives + false_positives)\n",
    "print(precision)\n",
    "\n",
    "f_1 = 2 * (precision * recall) / (precision + recall)\n",
    "print(f_1)"
   ]
  }
 ],
 "metadata": {
  "kernelspec": {
   "display_name": "Python 3",
   "language": "python",
   "name": "python3"
  },
  "language_info": {
   "codemirror_mode": {
    "name": "ipython",
    "version": 3
   },
   "file_extension": ".py",
   "mimetype": "text/x-python",
   "name": "python",
   "nbconvert_exporter": "python",
   "pygments_lexer": "ipython3",
   "version": "3.8.5"
  }
 },
 "nbformat": 4,
 "nbformat_minor": 4
}
